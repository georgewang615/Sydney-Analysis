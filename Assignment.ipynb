{
 "cells": [
  {
   "cell_type": "code",
   "execution_count": 1,
   "metadata": {},
   "outputs": [
    {
     "data": {
      "text/html": [
       "\n",
       "    <style> body {font-family: \"Avenir\";} h2 {padding: 10px 12px; background-color: #8b0000; position: static; color: #ffffff; font-size: 40px;} .text_cell_render p { font-size: 15px; } .text_cell_render h1 { font-size: 30px; } h1 {padding: 10px 12px; background-color: #00008B; color: #ffffff; font-size: 40px;} .text_cell_render h3 { padding: 10px 12px; background-color: #0148A4; position: static; color: #ffffff; font-size: 20px;} h4:before{ \n",
       "    content: \"@\"; font-family:\"Wingdings\"; font-style:regular; margin-right: 4px;} .text_cell_render h4 {padding: 8px; font-family: \"Roboto Condensed Light\"; position: static; font-style: italic; background-color: #00008B; color: #ffffff; font-size: 18px; text-align: center; border-radius: 5px;}input[type=submit] {background-color: #00008B; border: solid; border-color: #8b0000; color: white; padding: 8px 16px; text-decoration: none; margin: 4px 2px; cursor: pointer; border-radius: 20px;}</style>\n",
       "    <script> code_show=true; function code_toggle() {if (code_show){$('div.input').hide();} else {$('div.input').show();} code_show = !code_show} $( document ).ready(code_toggle);</script>\n",
       "    <form action=\"javascript:code_toggle()\"><input type=\"submit\" value=\"Hide/show all code.\"></form>\n"
      ],
      "text/plain": [
       "<IPython.core.display.HTML object>"
      ]
     },
     "execution_count": 1,
     "metadata": {},
     "output_type": "execute_result"
    }
   ],
   "source": [
    "from IPython.display import HTML\n",
    "HTML('''\n",
    "    <style> body {font-family: \"Avenir\";} h2 {padding: 10px 12px; background-color: #8b0000; position: static; color: #ffffff; font-size: 40px;} .text_cell_render p { font-size: 15px; } .text_cell_render h1 { font-size: 30px; } h1 {padding: 10px 12px; background-color: #00008B; color: #ffffff; font-size: 40px;} .text_cell_render h3 { padding: 10px 12px; background-color: #0148A4; position: static; color: #ffffff; font-size: 20px;} h4:before{ \n",
    "    content: \"@\"; font-family:\"Wingdings\"; font-style:regular; margin-right: 4px;} .text_cell_render h4 {padding: 8px; font-family: \"Roboto Condensed Light\"; position: static; font-style: italic; background-color: #00008B; color: #ffffff; font-size: 18px; text-align: center; border-radius: 5px;}input[type=submit] {background-color: #00008B; border: solid; border-color: #8b0000; color: white; padding: 8px 16px; text-decoration: none; margin: 4px 2px; cursor: pointer; border-radius: 20px;}</style>\n",
    "    <script> code_show=true; function code_toggle() {if (code_show){$('div.input').hide();} else {$('div.input').show();} code_show = !code_show} $( document ).ready(code_toggle);</script>\n",
    "    <form action=\"javascript:code_toggle()\"><input type=\"submit\" value=\"Hide/show all code.\"></form>\n",
    "''')"
   ]
  },
  {
   "cell_type": "markdown",
   "metadata": {},
   "source": [
    "<h1>DATA2001 Assignment by George Mukun Wang and Richade Li</h1>"
   ]
  },
  {
   "cell_type": "markdown",
   "metadata": {},
   "source": [
    "<h2>Task1: Bulding the Database</h2>"
   ]
  },
  {
   "cell_type": "markdown",
   "metadata": {},
   "source": [
    "##### Importing everything we need for this assignment"
   ]
  },
  {
   "cell_type": "code",
   "execution_count": 2,
   "metadata": {},
   "outputs": [],
   "source": [
    "from sqlalchemy import create_engine\n",
    "import psycopg2\n",
    "import psycopg2.extras\n",
    "import json\n",
    "import os\n",
    "import pandas as pd\n",
    "from shapely.geometry import Point, Polygon, MultiPolygon\n",
    "from geoalchemy2 import Geometry, WKTElement\n",
    "import matplotlib.pyplot as plt\n",
    "import geopandas as gpd\n",
    "import numpy as np\n",
    "import fiona"
   ]
  },
  {
   "cell_type": "markdown",
   "metadata": {},
   "source": [
    "##### Defining essential functions and connecting to the database"
   ]
  },
  {
   "cell_type": "code",
   "execution_count": 3,
   "metadata": {},
   "outputs": [
    {
     "name": "stdout",
     "output_type": "stream",
     "text": [
      "Connected successfully.\n"
     ]
    }
   ],
   "source": [
    "credentials = \"Credentials.json\"\n",
    "\n",
    "def pgconnect(credential_filepath, db_schema=\"public\"):\n",
    "    with open(credential_filepath) as f:\n",
    "        db_conn_dict = json.load(f)\n",
    "        host       = db_conn_dict['host']\n",
    "        db_user    = db_conn_dict['user']\n",
    "        db_pw      = db_conn_dict['password']\n",
    "        default_db = db_conn_dict['user']\n",
    "        try:\n",
    "            db = create_engine('postgresql+psycopg2://'+db_user+':'+db_pw+'@'+host+'/'+default_db, echo=False)\n",
    "            conn = db.connect()\n",
    "            print('Connected successfully.')\n",
    "        except Exception as e:\n",
    "            print(\"Unable to connect to the database.\")\n",
    "            print(e)\n",
    "            db, conn = None, None\n",
    "        return db,conn\n",
    "\n",
    "def query(conn, sqlcmd, args=None, df=True):\n",
    "    result = pd.DataFrame() if df else None\n",
    "    try:\n",
    "        if df:\n",
    "            result = pd.read_sql_query(sqlcmd, conn, params=args)\n",
    "        else:\n",
    "            result = conn.execute(sqlcmd, args).fetchall()\n",
    "            result = result[0] if len(result) == 1 else result\n",
    "    except Exception as e:\n",
    "        print(\"Error encountered: \", e, sep='\\n')\n",
    "    return result\n",
    "\n",
    "srid = 4326\n",
    "def create_wkt_element(geom, srid):\n",
    "    if geom.geom_type == 'Polygon':\n",
    "        geom = MultiPolygon([geom])\n",
    "    return WKTElement(geom.wkt, srid)\n",
    "\n",
    "db, conn = pgconnect(credentials)"
   ]
  },
  {
   "cell_type": "markdown",
   "metadata": {},
   "source": [
    "##### Creating tables for the datasets(suburbs, businesses, areas, schools, crimes)"
   ]
  },
  {
   "cell_type": "code",
   "execution_count": 83,
   "metadata": {
    "scrolled": true
   },
   "outputs": [
    {
     "data": {
      "text/plain": [
       "<sqlalchemy.engine.cursor.LegacyCursorResult at 0x7fb2cb1631c0>"
      ]
     },
     "execution_count": 83,
     "metadata": {},
     "output_type": "execute_result"
    }
   ],
   "source": [
    "conn.execute(\"\"\"\n",
    "CREATE TABLE IF NOT EXISTS suburbs(\n",
    "   area_id INTEGER PRIMARY KEY,\n",
    "   area_name VARCHAR(50),\n",
    "   population INTEGER,\n",
    "   median_annual_household_income INTEGER,\n",
    "   avg_monthly_rent INTEGER,\n",
    "   young_people INTEGER\n",
    ");\n",
    "\n",
    "CREATE TABLE IF NOT EXISTS businesses(\n",
    "   area_id INTEGER PRIMARY KEY,\n",
    "   area_name VARCHAR(50),\n",
    "   accommodation_and_food_services INTEGER,\n",
    "   retail_trade INTEGER,\n",
    "   health_care_and_social_assistance INTEGER\n",
    ");\n",
    "\n",
    "CREATE TABLE IF NOT EXISTS areas(\n",
    "    area_id INTEGER PRIMARY KEY,\n",
    "    area_name VARCHAR(80),\n",
    "    sa3_name VARCHAR(80),\n",
    "    area_km2 FLOAT,\n",
    "    area_geom Geometry(MULTIPOLYGON,4326)\n",
    ");\n",
    "\n",
    "CREATE TABLE IF NOT EXISTS schools(\n",
    "    school_id INTEGER PRIMARY KEY,\n",
    "    school_type VARCHAR(80),\n",
    "    name VARCHAR(80),\n",
    "    school_geom Geometry(MULTIPOLYGON,4326)\n",
    ");\n",
    "\n",
    "CREATE TABLE IF NOT EXISTS crimes(\n",
    "    crime_id INTEGER PRIMARY KEY,\n",
    "    crime_area FLOAT,\n",
    "    crime_geom Geometry(MULTIPOLYGON,4326)\n",
    ");\n",
    "\n",
    "CREATE TABLE IF NOT EXISTS cameras(\n",
    "    camera_id INTEGER PRIMARY KEY,\n",
    "    camera_geom GEOMETRY(POINT,4326)\n",
    ");\n",
    "\n",
    "CREATE TABLE IF NOT EXISTS recreations(\n",
    "    name VARCHAR(80) PRIMARY KEY,\n",
    "    recreation_geom GEOMETRY(POINT,4326)\n",
    ");\n",
    "\n",
    "CREATE TABLE IF NOT EXISTS schools_extended(\n",
    "    school_id INTEGER PRIMARY KEY,\n",
    "    school_type VARCHAR(80),\n",
    "    name VARCHAR(80),\n",
    "    school_geom Geometry(MULTIPOLYGON,4326)\n",
    ");\n",
    "\"\"\")"
   ]
  },
  {
   "cell_type": "markdown",
   "metadata": {},
   "source": [
    "##### Creating indices that speed up queries"
   ]
  },
  {
   "cell_type": "code",
   "execution_count": 84,
   "metadata": {},
   "outputs": [
    {
     "data": {
      "text/plain": [
       "<sqlalchemy.engine.cursor.LegacyCursorResult at 0x7fb2cce7a3a0>"
      ]
     },
     "execution_count": 84,
     "metadata": {},
     "output_type": "execute_result"
    }
   ],
   "source": [
    "conn.execute(\"\"\"\n",
    "CREATE INDEX IF NOT EXISTS area_geom_idx ON areas USING GIST (area_geom);\n",
    "\n",
    "CREATE INDEX IF NOT EXISTS suburb_id_idx ON suburbs(area_id);\n",
    "\n",
    "CREATE INDEX IF NOT EXISTS area_id_idx ON areas(area_id);\n",
    "\"\"\")"
   ]
  },
  {
   "cell_type": "markdown",
   "metadata": {},
   "source": [
    "##### Cleaning suburbs and loading it to database"
   ]
  },
  {
   "cell_type": "code",
   "execution_count": 88,
   "metadata": {},
   "outputs": [],
   "source": [
    "suburbs = pd.read_csv('Neighbourhoods.csv')\n",
    "\n",
    "#calculating number of 0-19 year olds\n",
    "suburbs['young_people'] = suburbs['0-4'] + suburbs['5-9'] + suburbs['10-14'] + suburbs['15-19'] \n",
    "\n",
    "suburbs.drop(columns=['Unnamed: 0', 'land_area', 'number_of_dwellings', 'number_of_businesses', '0-4', '5-9', '10-14', '15-19'], inplace=True)\n",
    "\n",
    "#removing commas from numbers\n",
    "suburbs.replace(',', '', regex=True, inplace=True)\n",
    "\n",
    "#removing null rows - would you want to live in a suburb that can't calculate average rent?\n",
    "suburbs.dropna(inplace=True)\n",
    "\n",
    "suburbs.to_sql(\"suburbs\", con=conn, if_exists='replace', index=False)"
   ]
  },
  {
   "cell_type": "markdown",
   "metadata": {},
   "source": [
    "##### Cleaning businesses and loading it to database"
   ]
  },
  {
   "cell_type": "code",
   "execution_count": 89,
   "metadata": {},
   "outputs": [],
   "source": [
    "businesses = pd.read_csv('BusinessStats.csv')\n",
    "businesses.drop(columns=['number_of_businesses', 'agriculture_forestry_and_fishing', 'public_administration_and_safety', 'transport_postal_and_warehousing'], inplace=True)\n",
    "businesses.to_sql(\"businesses\", con=conn, if_exists='replace', index=False)"
   ]
  },
  {
   "cell_type": "markdown",
   "metadata": {},
   "source": [
    "##### Cleaning schools catchments and loading it to database"
   ]
  },
  {
   "cell_type": "code",
   "execution_count": 90,
   "metadata": {},
   "outputs": [],
   "source": [
    "#combining the data and dropping duplicates\n",
    "SC1 = gpd.read_file(\"school_catchments/catchments_primary.shp\")\n",
    "SC2 = gpd.read_file(\"school_catchments/catchments_secondary.shp\")\n",
    "SC3 = gpd.read_file(\"school_catchments/catchments_future.shp\")\n",
    "schools = pd.concat([SC1, SC2, SC3]).drop_duplicates(subset = ['USE_DESC'])\n",
    "\n",
    "#parsing geometry data\n",
    "schools['school_geom'] = schools['geometry'].apply(lambda x: create_wkt_element(geom=x,srid=srid))\n",
    "\n",
    "schools = schools.rename(columns={\"USE_ID\": \"school_id\", \"USE_DESC\": \"name\",\"CATCH_TYPE\" : \"school_type\"})\n",
    "\n",
    "#creating a copy of schools\n",
    "schools_general = schools.drop(columns={\"ADD_DATE\",\"KINDERGART\",\"YEAR1\",\"YEAR2\",\"YEAR3\",\"YEAR4\",\"YEAR5\",\"YEAR6\",\"YEAR7\",\"YEAR8\",\"YEAR9\",\"YEAR10\",\"YEAR11\",\"YEAR12\",\"PRIORITY\",\"geometry\"})\n",
    "\n",
    "schools_general.to_sql('schools', conn, if_exists='replace', index=False, dtype={'school_geom': Geometry('MULTIPOLYGON', srid)})"
   ]
  },
  {
   "cell_type": "markdown",
   "metadata": {},
   "source": [
    "##### Cleaning areas and loading it to database"
   ]
  },
  {
   "cell_type": "code",
   "execution_count": 55,
   "metadata": {},
   "outputs": [],
   "source": [
    "areas = gpd.read_file(\"SA2_2016_AUST/SA2_2016_AUST.shp\")\n",
    "\n",
    "#removing null rows - would you want know about a suburb that can't get calculate its area?\n",
    "areas.dropna(inplace=True)\n",
    "\n",
    "areas.rename(columns={\"SA2_MAIN16\": \"area_id\", \"SA2_NAME16\": \"area_name\", \"SA3_NAME16\": \"sa3_name\", \"AREASQKM16\": \"area_km2\"}, inplace=True)\n",
    "areas.area_id = areas.area_id.astype('int64')\n",
    "\n",
    "#creating a copy of areas\n",
    "areasog = areas[['area_id', 'geometry']]\n",
    "\n",
    "#parsing geometry data\n",
    "areas['area_geom'] = areas['geometry'].apply(lambda x: create_wkt_element(geom=x,srid=srid))\n",
    "\n",
    "areas.drop(columns={\"SA2_5DIG16\",\"SA4_CODE16\",\"SA3_CODE16\",\"SA4_NAME16\",\"GCC_CODE16\",\"GCC_NAME16\",\"STE_CODE16\",\"STE_NAME16\",\"geometry\"}, inplace=True)\n",
    "\n",
    "areas.to_sql('areas', conn, if_exists='replace', index=False, dtype={'area_geom': Geometry('MULTIPOLYGON', srid)})"
   ]
  },
  {
   "cell_type": "markdown",
   "metadata": {},
   "source": [
    "##### Cleaning crimes and loading it to database"
   ]
  },
  {
   "cell_type": "code",
   "execution_count": 91,
   "metadata": {},
   "outputs": [],
   "source": [
    "crimes = gpd.read_file(\"break_and_enter/BreakEnterDwelling_JanToDec2021.shp\")\n",
    "\n",
    "#parsing geometry data\n",
    "crimes['crime_geom'] = crimes['geometry'].apply(lambda x: create_wkt_element(geom=x,srid=srid))  # applying the function\n",
    "\n",
    "#only selecting the low density crime areas - avoids double/triple counting\n",
    "crimes = (crimes[crimes['Density'] == \"Low Density\"])\n",
    "\n",
    "crimes.drop(columns={\"Contour\",\"Density\",\"ORIG_FID\",\"Shape_Leng\",\"geometry\"}, inplace=True)\n",
    "crimes.rename(columns={\"OBJECTID\": \"crime_id\", \"Shape_Area\": \"crime_area\"}, inplace=True)\n",
    "\n",
    "crimes.to_sql('crimes', conn, if_exists='replace', index=False, dtype={'crime_geom': Geometry('MULTIPOLYGON', srid)})"
   ]
  },
  {
   "cell_type": "markdown",
   "metadata": {},
   "source": [
    "##### Cleaning cameras and loading it to database"
   ]
  },
  {
   "cell_type": "code",
   "execution_count": 57,
   "metadata": {},
   "outputs": [],
   "source": [
    "cameras = gpd.read_file(\"Street_safety_cameras.geojson\")\n",
    "\n",
    "#parsing geometry data\n",
    "cameras['camera_geom'] = cameras['geometry'].apply(lambda x: create_wkt_element(geom=x,srid=srid))\n",
    "\n",
    "cameras.drop(columns={\"OBJECTID\",\"Precinct\",\"Location\",\"LocalityPrecinct\",\"geometry\"}, inplace=True)\n",
    "cameras.rename(columns={\"CAMERA_NO\": \"camera_id\"}, inplace=True)\n",
    "\n",
    "cameras.to_sql('cameras', conn, if_exists='replace', index=False, dtype={'camera_geom': Geometry('POINT', srid)})"
   ]
  },
  {
   "cell_type": "markdown",
   "metadata": {},
   "source": [
    "##### Cleaning recreations and loading it to database"
   ]
  },
  {
   "cell_type": "code",
   "execution_count": null,
   "metadata": {},
   "outputs": [],
   "source": [
    "#Setting up the driver to read kml file\n",
    "gpd.io.file.fiona.drvsupport.supported_drivers['KML'] = 'rw'\n",
    "recreations = gpd.read_file('Recreation_centres.kml',driver='KML')\n",
    "\n",
    "#parsing geometry data\n",
    "recreations['recreation_geom'] = recreations['geometry'].apply(lambda x: create_wkt_element(geom=x,srid=srid))\n",
    "\n",
    "recreations.drop(columns={\"Description\",\"geometry\"}, inplace=True)\n",
    "recreations.rename(columns={\"Name\": \"name\"}, inplace=True)\n",
    "\n",
    "recreations.to_sql('recreations', conn, if_exists='replace', index=False, dtype={'recreation_geom': Geometry('POINT', srid)})"
   ]
  },
  {
   "cell_type": "markdown",
   "metadata": {},
   "source": [
    "##### Cleaning school (for stakeholders) and loading it to database"
   ]
  },
  {
   "cell_type": "code",
   "execution_count": null,
   "metadata": {},
   "outputs": [],
   "source": [
    "#only selecting co-ed or boys schools from year 10-12\n",
    "schools_extended = schools[(schools['school_type'] != 'HIGH_GIRLS') & (schools['YEAR10'] == 'Y') & (schools['YEAR11'] == 'Y') & (schools['YEAR12'] == 'Y')]\n",
    "schools_extended = schools_extended.drop(columns={\"ADD_DATE\",\"KINDERGART\",\"YEAR1\",\"YEAR2\",\"YEAR3\",\"YEAR4\",\"YEAR5\",\"YEAR6\",\"YEAR7\",\"YEAR8\",\"YEAR9\",\"YEAR10\",\"YEAR11\",\"YEAR12\",\"PRIORITY\",\"geometry\"})\n",
    "\n",
    "schools_extended.to_sql('schools_extended', conn, if_exists='append', index=False, dtype={'school_geom': Geometry('MULTIPOLYGON', srid)})"
   ]
  },
  {
   "cell_type": "markdown",
   "metadata": {},
   "source": [
    "<h2>Task2: Greater Sydney Liveability Analysis</h2>"
   ]
  },
  {
   "cell_type": "markdown",
   "metadata": {},
   "source": [
    "##### Creating a view containing the data we need for part 2 (dummy aggregation is used to help join tables)"
   ]
  },
  {
   "cell_type": "code",
   "execution_count": 7,
   "metadata": {},
   "outputs": [
    {
     "data": {
      "text/plain": [
       "<sqlalchemy.engine.cursor.LegacyCursorResult at 0x7f96d622edf0>"
      ]
     },
     "execution_count": 7,
     "metadata": {},
     "output_type": "execute_result"
    }
   ],
   "source": [
    "conn.execute(\"\"\"\n",
    "CREATE VIEW IF NOT EXISTS stats \n",
    "AS\n",
    "    SELECT su.area_id, su.area_name, \n",
    "           1000 * CAST(COUNT(sc.school_id) AS FLOAT) / su.young_people AS \"school\",\n",
    "           COALESCE(SUM(c.crime_area), 0) / AVG(a.area_km2) AS \"crime\",\n",
    "           1000 * AVG(b.accommodation_and_food_services) / su.population AS \"accomm\",\n",
    "           1000 * AVG(b.retail_trade) / su.population AS \"retail\",\n",
    "           1000 * AVG(b.health_care_and_social_assistance) / su.population AS \"health\"\n",
    "      FROM suburbs su LEFT JOIN areas a ON (su.area_id = a.area_id)\n",
    "           LEFT JOIN schools sc ON (ST_INTERSECTS(a.area_geom, sc.school_geom))\n",
    "           LEFT JOIN crimes c ON (ST_INTERSECTS(a.area_geom, c.crime_geom))\n",
    "           LEFT JOIN business b ON (su.area_id = b.area_id)\n",
    "      GROUP BY su.area_id;\n",
    "\"\"\")"
   ]
  },
  {
   "cell_type": "markdown",
   "metadata": {},
   "source": [
    "##### Calculating the z scores for every suburb and storing the results in a view (cross join gives the cartesian product of metrics and stats)"
   ]
  },
  {
   "cell_type": "code",
   "execution_count": 59,
   "metadata": {},
   "outputs": [
    {
     "data": {
      "text/plain": [
       "<sqlalchemy.engine.cursor.LegacyCursorResult at 0x7fb318c304f0>"
      ]
     },
     "execution_count": 59,
     "metadata": {},
     "output_type": "execute_result"
    }
   ],
   "source": [
    "conn.execute(\"\"\"\n",
    "CREATE VIEW IF NOT EXISTS zscores AS\n",
    "    SELECT area_id, area_name, \n",
    "    ((s.school - ss.avg_school) / ss.std_school) AS \"z_school\",\n",
    "    ((s.crime - ss.avg_crime) / ss.std_crime) AS \"z_crime\",\n",
    "    ((s.accomm - ss.avg_accomm) / ss.std_accomm) AS \"z_accomm\",\n",
    "    ((s.retail - ss.avg_retail) / ss.std_retail) AS \"z_retail\",\n",
    "    ((s.health - ss.avg_health) / ss.std_health) AS \"z_health\"\n",
    " FROM stats s CROSS JOIN (\n",
    "    SELECT STDDEV_POP(school) AS \"std_school\",\n",
    "           STDDEV_POP(crime) AS \"std_crime\",\n",
    "           STDDEV_POP(accomm) AS \"std_accomm\",\n",
    "           STDDEV_POP(retail) AS \"std_retail\",\n",
    "           STDDEV_POP(health) AS \"std_health\",\n",
    "           AVG(school) AS \"avg_school\",\n",
    "           AVG(crime) AS \"avg_crime\",\n",
    "           AVG(accomm) AS \"avg_accomm\",\n",
    "           AVG(retail) AS \"avg_retail\",\n",
    "           AVG(health) AS \"avg_health\"\n",
    "        FROM stats) ss;\n",
    "\"\"\")"
   ]
  },
  {
   "cell_type": "markdown",
   "metadata": {},
   "source": [
    "##### Calculating the liveability scores for every suburb using the sigmoid function and storing the results in a view"
   ]
  },
  {
   "cell_type": "code",
   "execution_count": 7,
   "metadata": {
    "scrolled": true
   },
   "outputs": [
    {
     "data": {
      "text/plain": [
       "<sqlalchemy.engine.cursor.LegacyCursorResult at 0x7fb31284d2e0>"
      ]
     },
     "execution_count": 7,
     "metadata": {},
     "output_type": "execute_result"
    }
   ],
   "source": [
    "conn.execute(\"\"\"\n",
    "CREATE TABLE IF NOT EXISTS liveability AS\n",
    "    SELECT z.area_id, z.area_name, a.area_geom, \n",
    "    s.median_annual_household_income AS \"income\",\n",
    "    s.avg_monthly_rent AS \"rent\",\n",
    "    1 / (1 + EXP(-(z.z_school + z.z_accomm + z.z_retail - z.z_crime + z.z_health))) AS \"score\"\n",
    "    FROM zscores z JOIN areas a USING(area_id) JOIN suburbs s USING(area_id)\n",
    "    ORDER BY score DESC;\n",
    "\"\"\")"
   ]
  },
  {
   "cell_type": "markdown",
   "metadata": {},
   "source": [
    "##### Displaying the liveability scores"
   ]
  },
  {
   "cell_type": "code",
   "execution_count": 93,
   "metadata": {},
   "outputs": [
    {
     "data": {
      "text/html": [
       "<div>\n",
       "<style scoped>\n",
       "    .dataframe tbody tr th:only-of-type {\n",
       "        vertical-align: middle;\n",
       "    }\n",
       "\n",
       "    .dataframe tbody tr th {\n",
       "        vertical-align: top;\n",
       "    }\n",
       "\n",
       "    .dataframe thead th {\n",
       "        text-align: right;\n",
       "    }\n",
       "</style>\n",
       "<table border=\"1\" class=\"dataframe\">\n",
       "  <thead>\n",
       "    <tr style=\"text-align: right;\">\n",
       "      <th></th>\n",
       "      <th>area_id</th>\n",
       "      <th>area_name</th>\n",
       "      <th>score</th>\n",
       "    </tr>\n",
       "  </thead>\n",
       "  <tbody>\n",
       "    <tr>\n",
       "      <th>0</th>\n",
       "      <td>117031337</td>\n",
       "      <td>Sydney - Haymarket - The Rocks</td>\n",
       "      <td>1.000000</td>\n",
       "    </tr>\n",
       "    <tr>\n",
       "      <th>1</th>\n",
       "      <td>127011592</td>\n",
       "      <td>Badgerys Creek</td>\n",
       "      <td>1.000000</td>\n",
       "    </tr>\n",
       "    <tr>\n",
       "      <th>2</th>\n",
       "      <td>119011355</td>\n",
       "      <td>Chullora</td>\n",
       "      <td>0.999997</td>\n",
       "    </tr>\n",
       "    <tr>\n",
       "      <th>3</th>\n",
       "      <td>121041417</td>\n",
       "      <td>North Sydney - Lavender Bay</td>\n",
       "      <td>0.999897</td>\n",
       "    </tr>\n",
       "    <tr>\n",
       "      <th>4</th>\n",
       "      <td>118011341</td>\n",
       "      <td>Bondi Junction - Waverly</td>\n",
       "      <td>0.998178</td>\n",
       "    </tr>\n",
       "    <tr>\n",
       "      <th>...</th>\n",
       "      <td>...</td>\n",
       "      <td>...</td>\n",
       "      <td>...</td>\n",
       "    </tr>\n",
       "    <tr>\n",
       "      <th>304</th>\n",
       "      <td>127031599</td>\n",
       "      <td>Lurnea - Cartwright</td>\n",
       "      <td>0.035218</td>\n",
       "    </tr>\n",
       "    <tr>\n",
       "      <th>305</th>\n",
       "      <td>125041493</td>\n",
       "      <td>Toongabbie - Constitution Hill</td>\n",
       "      <td>0.031260</td>\n",
       "    </tr>\n",
       "    <tr>\n",
       "      <th>306</th>\n",
       "      <td>120031394</td>\n",
       "      <td>Dulwich Hill - Lewisham</td>\n",
       "      <td>0.017992</td>\n",
       "    </tr>\n",
       "    <tr>\n",
       "      <th>307</th>\n",
       "      <td>117031335</td>\n",
       "      <td>Redfern - Chippendale</td>\n",
       "      <td>0.013867</td>\n",
       "    </tr>\n",
       "    <tr>\n",
       "      <th>308</th>\n",
       "      <td>117021327</td>\n",
       "      <td>Petersham - Stanmore</td>\n",
       "      <td>0.009058</td>\n",
       "    </tr>\n",
       "  </tbody>\n",
       "</table>\n",
       "<p>309 rows × 3 columns</p>\n",
       "</div>"
      ],
      "text/plain": [
       "       area_id                       area_name     score\n",
       "0    117031337  Sydney - Haymarket - The Rocks  1.000000\n",
       "1    127011592                  Badgerys Creek  1.000000\n",
       "2    119011355                        Chullora  0.999997\n",
       "3    121041417     North Sydney - Lavender Bay  0.999897\n",
       "4    118011341        Bondi Junction - Waverly  0.998178\n",
       "..         ...                             ...       ...\n",
       "304  127031599             Lurnea - Cartwright  0.035218\n",
       "305  125041493  Toongabbie - Constitution Hill  0.031260\n",
       "306  120031394         Dulwich Hill - Lewisham  0.017992\n",
       "307  117031335           Redfern - Chippendale  0.013867\n",
       "308  117021327            Petersham - Stanmore  0.009058\n",
       "\n",
       "[309 rows x 3 columns]"
      ]
     },
     "execution_count": 93,
     "metadata": {},
     "output_type": "execute_result"
    }
   ],
   "source": [
    "query(conn, \"SELECT area_id, area_name, score FROM liveability\")"
   ]
  },
  {
   "cell_type": "markdown",
   "metadata": {},
   "source": [
    "##### Plotting the liveabilities scores on a color-coded map for each suburb"
   ]
  },
  {
   "cell_type": "code",
   "execution_count": 92,
   "metadata": {},
   "outputs": [
    {
     "data": {
      "image/png": "[encoded data removed]",
      "text/plain": [
       "<Figure size 720x720 with 2 Axes>"
      ]
     },
     "metadata": {
      "needs_background": "light"
     },
     "output_type": "display_data"
    }
   ],
   "source": [
    "liveability = gpd.read_postgis(\"SELECT score, area_geom AS geom FROM liveability\", conn)\n",
    "liveability.plot(figsize=(10, 10), column='score', legend=True)\n",
    "plt.title(\"Liveability Scores for Greater Sydney\", fontdict={'fontsize': 16})\n",
    "plt.show()"
   ]
  },
  {
   "cell_type": "markdown",
   "metadata": {},
   "source": [
    "##### Performing correlations analysis on the liveabilitiy score, rent, and income of each suburb (a weak correlation is found between liveability score and income, a medium correlation is found between liveability score and rent)"
   ]
  },
  {
   "cell_type": "code",
   "execution_count": 94,
   "metadata": {},
   "outputs": [
    {
     "name": "stdout",
     "output_type": "stream",
     "text": [
      "Correlation coefficients between 0.1 and 0.3 represent weak correlation\n",
      "Correlation coefficients between 0.3 and 0.5 represent medium correlation\n",
      "Correlation coefficient between median annual household income and liveability score: 0.25271386216951464\n",
      "Correlation coefficient between average monthly rent and liveability score: 0.45005220794617906\n"
     ]
    },
    {
     "data": {
      "text/plain": [
       "[<matplotlib.lines.Line2D at 0x7fb2db753400>]"
      ]
     },
     "execution_count": 94,
     "metadata": {},
     "output_type": "execute_result"
    },
    {
     "data": {
      "image/png": "[encoded data removed]",
      "text/plain": [
       "<Figure size 432x288 with 2 Axes>"
      ]
     },
     "metadata": {
      "needs_background": "light"
     },
     "output_type": "display_data"
    }
   ],
   "source": [
    "correlations = query(conn, \"SELECT income, rent, score FROM liveability\")\n",
    "income = correlations['income']\n",
    "rent = correlations['rent']\n",
    "score = correlations['score']\n",
    "print(\"Correlation coefficients between 0.1 and 0.3 represent weak correlation\")\n",
    "print(\"Correlation coefficients between 0.3 and 0.5 represent medium correlation\")\n",
    "print(\"Correlation coefficient between median annual household income and liveability score: {}\".format(income.corr(score)))\n",
    "print(\"Correlation coefficient between average monthly rent and liveability score: {}\".format(rent.corr(score)))\n",
    "\n",
    "plt.subplot(1, 2, 1)\n",
    "plt.plot(score, income, 'o')\n",
    "plt.title(\"Score VS Income\")\n",
    "plt.xlabel(\"Score\")\n",
    "plt.ylabel(\"Income\")\n",
    "m, b = np.polyfit(score, income, 1)\n",
    "plt.plot(score, m * score + b)\n",
    "\n",
    "plt.subplot(1, 2, 2)\n",
    "plt.plot(score, rent, 'o')\n",
    "plt.title(\"Score VS Rent\")\n",
    "plt.xlabel(\"Score\")\n",
    "plt.ylabel(\"Rent\")\n",
    "m, b = np.polyfit(score, rent, 1)\n",
    "plt.plot(score, m * score + b)"
   ]
  },
  {
   "cell_type": "markdown",
   "metadata": {},
   "source": [
    "<h2>Task3: City of Sydney Liveability Analysis</h2>"
   ]
  },
  {
   "cell_type": "markdown",
   "metadata": {},
   "source": [
    "##### Creating a view containing extra stats needed for task 3, which includes data for camera and recreations, as well as school data suited for our stakeholder"
   ]
  },
  {
   "cell_type": "code",
   "execution_count": 47,
   "metadata": {},
   "outputs": [
    {
     "data": {
      "text/plain": [
       "<sqlalchemy.engine.cursor.LegacyCursorResult at 0x7fd497c2fc10>"
      ]
     },
     "execution_count": 47,
     "metadata": {},
     "output_type": "execute_result"
    }
   ],
   "source": [
    "conn.execute(\"\"\"\n",
    "CREATE VIEW IF NOT EXISTS extra_stats AS\n",
    "    SELECT su.area_id, su.area_name,\n",
    "           1000 * CAST(COUNT(c.camera_id) AS FLOAT) / su.population AS \"camera\",\n",
    "           CASE WHEN COUNT(r.name) > 0 THEN 1 ELSE 0 END AS \"recreation\",\n",
    "           1000 * CAST(COUNT(se.school_id) AS FLOAT) / su.young_people AS \"school\"\n",
    "      FROM suburbs su LEFT JOIN areas a ON (su.area_id = a.area_id)\n",
    "        LEFT JOIN cameras c ON (ST_INTERSECTS(a.area_geom, c.camera_geom))\n",
    "        LEFT JOIN recreations r ON (ST_DWITHIN(a.area_geom::geography, r.recreation_geom::geography, 200))\n",
    "        LEFT JOIN schools_extended se ON (ST_INTERSECTS(a.area_geom, se.school_geom))\n",
    "      WHERE LOWER(a.sa3_name) = 'sydney inner city'\n",
    "      GROUP BY su.area_id\n",
    "\"\"\")"
   ]
  },
  {
   "cell_type": "markdown",
   "metadata": {},
   "source": [
    "##### Combining the extra stats with previous stats, storing it as a view"
   ]
  },
  {
   "cell_type": "code",
   "execution_count": 48,
   "metadata": {},
   "outputs": [
    {
     "data": {
      "text/plain": [
       "<sqlalchemy.engine.cursor.LegacyCursorResult at 0x7fd48a24ffa0>"
      ]
     },
     "execution_count": 48,
     "metadata": {},
     "output_type": "execute_result"
    }
   ],
   "source": [
    "conn.execute(\"\"\"\n",
    "CREATE VIEW IF NOT EXISTS stats_extended AS\n",
    "    SELECT e.area_id, e.area_name, e.camera, e.recreation, e.school, s.crime, s.accomm, s.retail, s.health\n",
    "      FROM extra_stats e LEFT JOIN stats s ON (e.area_id = s.area_id)\n",
    "\"\"\")"
   ]
  },
  {
   "cell_type": "markdown",
   "metadata": {},
   "source": [
    "##### Calculating the z scores for each suburb using a very similar method as part 2"
   ]
  },
  {
   "cell_type": "code",
   "execution_count": 49,
   "metadata": {},
   "outputs": [
    {
     "data": {
      "text/plain": [
       "<sqlalchemy.engine.cursor.LegacyCursorResult at 0x7fd497c91e80>"
      ]
     },
     "execution_count": 49,
     "metadata": {},
     "output_type": "execute_result"
    }
   ],
   "source": [
    "conn.execute(\"\"\"\n",
    "CREATE VIEW IF NOT EXISTS zscores_extended AS\n",
    "    SELECT area_id, area_name, \n",
    "    ((s.camera - ss.avg_camera) / ss.std_camera) AS \"z_camera\",\n",
    "    ((s.recreation - ss.avg_recreation) / ss.std_recreation) AS \"z_recreation\",\n",
    "    ((s.school - ss.avg_school) / ss.std_school) AS \"z_school\",\n",
    "    ((s.crime - ss.avg_crime) / ss.std_crime) AS \"z_crime\",\n",
    "    ((s.accomm - ss.avg_accomm) / ss.std_accomm) AS \"z_accomm\",\n",
    "    ((s.retail - ss.avg_retail) / ss.std_retail) AS \"z_retail\",\n",
    "    ((s.health - ss.avg_health) / ss.std_health) AS \"z_health\"\n",
    " FROM stats_extended s CROSS JOIN (\n",
    "     SELECT STDDEV_POP(camera) AS \"std_camera\",\n",
    "            STDDEV_POP(recreation) AS \"std_recreation\",\n",
    "            STDDEV_POP(school) AS \"std_school\",\n",
    "            STDDEV_POP(crime) AS \"std_crime\",\n",
    "            STDDEV_POP(accomm) AS \"std_accomm\",\n",
    "            STDDEV_POP(retail) AS \"std_retail\",\n",
    "            STDDEV_POP(health) AS \"std_health\",\n",
    "            AVG(camera) AS \"avg_camera\",\n",
    "            AVG(recreation) AS \"avg_recreation\",\n",
    "            AVG(school) AS \"avg_school\",\n",
    "            AVG(crime) AS \"avg_crime\",\n",
    "            AVG(accomm) AS \"avg_accomm\",\n",
    "            AVG(retail) AS \"avg_retail\",\n",
    "            AVG(health) AS \"avg_health\"\n",
    "        FROM stats_extended) ss;\n",
    "\"\"\")"
   ]
  },
  {
   "cell_type": "markdown",
   "metadata": {},
   "source": [
    "##### Calculating the liveability scores for our stakeholders using the sigmoid function, the results are stored in a table"
   ]
  },
  {
   "cell_type": "code",
   "execution_count": 49,
   "metadata": {},
   "outputs": [
    {
     "data": {
      "text/plain": [
       "<sqlalchemy.engine.cursor.LegacyCursorResult at 0x7fb316c35f40>"
      ]
     },
     "execution_count": 49,
     "metadata": {},
     "output_type": "execute_result"
    }
   ],
   "source": [
    "conn.execute(\"\"\"\n",
    "CREATE TABLE IF NOT EXISTS liveability_extended AS\n",
    "    SELECT areas.area_id, areas.area_name, areas.area_geom, \n",
    "    median_annual_household_income AS \"income\", \n",
    "    avg_monthly_rent AS \"rent\",\n",
    "    1 / (1 + EXP(-(1.5*z_camera + z_recreation + 2*z_school + 0.5*z_accomm + z_retail - 2*z_crime + z_health))) AS \"score\"\n",
    "FROM zscores_extended LEFT JOIN areas USING(area_id) JOIN suburbs USING(area_id)\n",
    "ORDER BY score DESC\n",
    "\"\"\")"
   ]
  },
  {
   "cell_type": "markdown",
   "metadata": {},
   "source": [
    "##### Showing our stakeholder the best suburbs sorted by our liveability score"
   ]
  },
  {
   "cell_type": "code",
   "execution_count": 95,
   "metadata": {},
   "outputs": [
    {
     "data": {
      "text/html": [
       "<div>\n",
       "<style scoped>\n",
       "    .dataframe tbody tr th:only-of-type {\n",
       "        vertical-align: middle;\n",
       "    }\n",
       "\n",
       "    .dataframe tbody tr th {\n",
       "        vertical-align: top;\n",
       "    }\n",
       "\n",
       "    .dataframe thead th {\n",
       "        text-align: right;\n",
       "    }\n",
       "</style>\n",
       "<table border=\"1\" class=\"dataframe\">\n",
       "  <thead>\n",
       "    <tr style=\"text-align: right;\">\n",
       "      <th></th>\n",
       "      <th>area_id</th>\n",
       "      <th>area_name</th>\n",
       "      <th>score</th>\n",
       "    </tr>\n",
       "  </thead>\n",
       "  <tbody>\n",
       "    <tr>\n",
       "      <th>0</th>\n",
       "      <td>117031337</td>\n",
       "      <td>Sydney - Haymarket - The Rocks</td>\n",
       "      <td>0.999989</td>\n",
       "    </tr>\n",
       "    <tr>\n",
       "      <th>1</th>\n",
       "      <td>117031333</td>\n",
       "      <td>Potts Point - Woolloomooloo</td>\n",
       "      <td>0.896862</td>\n",
       "    </tr>\n",
       "    <tr>\n",
       "      <th>2</th>\n",
       "      <td>117031329</td>\n",
       "      <td>Darlinghurst</td>\n",
       "      <td>0.673127</td>\n",
       "    </tr>\n",
       "    <tr>\n",
       "      <th>3</th>\n",
       "      <td>117031330</td>\n",
       "      <td>Erskineville - Alexandria</td>\n",
       "      <td>0.652191</td>\n",
       "    </tr>\n",
       "    <tr>\n",
       "      <th>4</th>\n",
       "      <td>117031332</td>\n",
       "      <td>Newtown - Camperdown - Darlington</td>\n",
       "      <td>0.283921</td>\n",
       "    </tr>\n",
       "    <tr>\n",
       "      <th>5</th>\n",
       "      <td>117031334</td>\n",
       "      <td>Pyrmont - Ultimo</td>\n",
       "      <td>0.278251</td>\n",
       "    </tr>\n",
       "    <tr>\n",
       "      <th>6</th>\n",
       "      <td>117031338</td>\n",
       "      <td>Waterloo - Beaconsfield</td>\n",
       "      <td>0.065606</td>\n",
       "    </tr>\n",
       "    <tr>\n",
       "      <th>7</th>\n",
       "      <td>117031331</td>\n",
       "      <td>Glebe - Forest Lodge</td>\n",
       "      <td>0.055817</td>\n",
       "    </tr>\n",
       "    <tr>\n",
       "      <th>8</th>\n",
       "      <td>117031335</td>\n",
       "      <td>Redfern - Chippendale</td>\n",
       "      <td>0.028554</td>\n",
       "    </tr>\n",
       "    <tr>\n",
       "      <th>9</th>\n",
       "      <td>117031336</td>\n",
       "      <td>Surry Hills</td>\n",
       "      <td>0.017213</td>\n",
       "    </tr>\n",
       "  </tbody>\n",
       "</table>\n",
       "</div>"
      ],
      "text/plain": [
       "     area_id                          area_name     score\n",
       "0  117031337     Sydney - Haymarket - The Rocks  0.999989\n",
       "1  117031333        Potts Point - Woolloomooloo  0.896862\n",
       "2  117031329                       Darlinghurst  0.673127\n",
       "3  117031330          Erskineville - Alexandria  0.652191\n",
       "4  117031332  Newtown - Camperdown - Darlington  0.283921\n",
       "5  117031334                   Pyrmont - Ultimo  0.278251\n",
       "6  117031338            Waterloo - Beaconsfield  0.065606\n",
       "7  117031331               Glebe - Forest Lodge  0.055817\n",
       "8  117031335              Redfern - Chippendale  0.028554\n",
       "9  117031336                        Surry Hills  0.017213"
      ]
     },
     "execution_count": 95,
     "metadata": {},
     "output_type": "execute_result"
    }
   ],
   "source": [
    "query(conn, \"SELECT area_id, area_name, score FROM liveability_extended\")"
   ]
  },
  {
   "cell_type": "markdown",
   "metadata": {},
   "source": [
    "##### Visualising the results for our stakeholders using a colour-coded map"
   ]
  },
  {
   "cell_type": "code",
   "execution_count": 96,
   "metadata": {},
   "outputs": [
    {
     "data": {
      "image/png": "[encoded data removed]",
      "text/plain": [
       "<Figure size 720x720 with 2 Axes>"
      ]
     },
     "metadata": {
      "needs_background": "light"
     },
     "output_type": "display_data"
    }
   ],
   "source": [
    "liveability_extended = gpd.read_postgis(\"SELECT area_name, score, area_geom AS geom FROM liveability_extended\", conn)\n",
    "liveability_extended.plot(figsize=(10, 10), column='score', legend=True)\n",
    "plt.title(\"Liveability Scores for Greater Inner Sydney\", fontdict={'fontsize': 16})\n",
    "plt.show()"
   ]
  },
  {
   "cell_type": "markdown",
   "metadata": {},
   "source": [
    "##### Extra: Plotting the liveability scores against income and rent for our stakeholder"
   ]
  },
  {
   "cell_type": "code",
   "execution_count": 51,
   "metadata": {},
   "outputs": [
    {
     "name": "stdout",
     "output_type": "stream",
     "text": [
      "Correlation coefficients between 0.3 and 0.5 represent medium correlation\n",
      "Correlation coefficient between median annual household income and liveability score: -0.2863037370058461\n",
      "Correlation coefficient between average monthly rent and liveability score: 0.6570300566944549\n"
     ]
    },
    {
     "data": {
      "text/plain": [
       "[<matplotlib.lines.Line2D at 0x7fb2fb511e50>]"
      ]
     },
     "execution_count": 51,
     "metadata": {},
     "output_type": "execute_result"
    },
    {
     "data": {
      "image/png": "[encoded data removed]",
      "text/plain": [
       "<Figure size 432x288 with 2 Axes>"
      ]
     },
     "metadata": {
      "needs_background": "light"
     },
     "output_type": "display_data"
    }
   ],
   "source": [
    "correlations = query(conn, \"SELECT income, rent, score FROM liveability_extended\")\n",
    "income = correlations['income']\n",
    "rent = correlations['rent']\n",
    "score = correlations['score']\n",
    "print(\"Correlation coefficients between 0.3 and 0.5 represent medium correlation\")\n",
    "print(\"Correlation coefficient between median annual household income and liveability score: {}\".format(income.corr(score)))\n",
    "print(\"Correlation coefficient between average monthly rent and liveability score: {}\".format(rent.corr(score)))\n",
    "\n",
    "plt.subplot(1, 2, 1)\n",
    "plt.plot(score, income, 'o')\n",
    "plt.title(\"Score VS Income\")\n",
    "plt.xlabel(\"Score\")\n",
    "plt.ylabel(\"Income\")\n",
    "m, b = np.polyfit(score, income, 1)\n",
    "plt.plot(score, m * score + b)\n",
    "\n",
    "plt.subplot(1, 2, 2)\n",
    "plt.plot(score, rent, 'o')\n",
    "plt.title(\"Score VS Rent\")\n",
    "plt.xlabel(\"Score\")\n",
    "plt.ylabel(\"Rent\")\n",
    "m, b = np.polyfit(score, rent, 1)\n",
    "plt.plot(score, m * score + b)"
   ]
  },
  {
   "cell_type": "code",
   "execution_count": 4,
   "metadata": {},
   "outputs": [],
   "source": [
    "conn.close()"
   ]
  },
  {
   "cell_type": "code",
   "execution_count": null,
   "metadata": {},
   "outputs": [],
   "source": []
  }
 ],
 "metadata": {
  "kernelspec": {
   "display_name": "Python 3 (ipykernel)",
   "language": "python",
   "name": "python3"
  },
  "language_info": {
   "codemirror_mode": {
    "name": "ipython",
    "version": 3
   },
   "file_extension": ".py",
   "mimetype": "text/x-python",
   "name": "python",
   "nbconvert_exporter": "python",
   "pygments_lexer": "ipython3",
   "version": "3.9.7"
  }
 },
 "nbformat": 4,
 "nbformat_minor": 5
}